{
 "cells": [
  {
   "cell_type": "markdown",
   "metadata": {},
   "source": [
    "# Table of contents for course CSC 483: Computer Vision\n",
    "\n",
    "Date of last edit: 10/23/19\n",
    "\n",
    "<br/>\n",
    "\n",
    "\n",
    "# Portfolio\n",
    "\n",
    "- Project 1: implemented some of the suggested portfolio ideas\n",
    "    - [Project 1 portfolio notebook](portfolio/project_1_portfolio_ideas.ipynb)\n",
    "    - [project1.py](project1/project1.py)\n",
    "    \n",
    "<br/>\n",
    "\n",
    "- ASCII convertor: tool to convert images into ASCII art\n",
    "    - [ASCII convertor notebook](portfolio/ascii_convertor.ipynb)\n",
    "    \n",
    "<br/>\n",
    "\n",
    "- Optical Character Recognition tool: using Tesseract OCR to recognize text embedded in images\n",
    "    - [OCR notebook](portfolio/optical_character_recognition.ipynb)\n",
    "    - pytesseract package needs to be installed\n",
    "    - Tesseract OCR opensource: https://sourceforge.net/projects/tesseract-ocr-alt/files/tesseract-ocr-setup-3.02.02.exe/download\n",
    "    - Training data for Czech language: https://github.com/tesseract-ocr/tessdata/blob/3.04.00/ces.traineddata\n",
    "    - tool works, but the project needs to be documented and properly described, so it is so far unfinished\n",
    "    \n",
    "    \n",
    "# Assignments\n",
    "\n",
    "- [Project 1](project1/project1.ipynb)\n",
    "    - [project1.py](project1/project1.py)\n",
    "- [Project 2](project2/proj2.ipynb)\n",
    "    - [Hybrid images and Writeup](project2/proj2_test_filtering.ipynb)\n",
    "    - [project2.py](project2/project2.py)\n",
    "- Project 3\n",
    "    - [Project 3A](project3/project3A.ipynb)\n",
    "    - [Project 3B](project3/project3B.ipynb)\n",
    "    - [project3.py](project3/project3.py)\n",
    "    - [Writeup](project3/writeup.ipynb)\n",
    "- [Project 4](project4/Project-4-Harris.ipynb)\n",
    "    - [project4.py](project4/project4.py)\n",
    "    - [Writeup](project4/Writeup.ipynb)\n",
    "\n",
    "\n"
   ]
  },
  {
   "cell_type": "code",
   "execution_count": null,
   "metadata": {},
   "outputs": [],
   "source": []
  },
  {
   "cell_type": "code",
   "execution_count": null,
   "metadata": {},
   "outputs": [],
   "source": []
  }
 ],
 "metadata": {
  "kernelspec": {
   "display_name": "Python 3",
   "language": "python",
   "name": "python3"
  },
  "language_info": {
   "codemirror_mode": {
    "name": "ipython",
    "version": 3
   },
   "file_extension": ".py",
   "mimetype": "text/x-python",
   "name": "python",
   "nbconvert_exporter": "python",
   "pygments_lexer": "ipython3",
   "version": "3.7.3"
  }
 },
 "nbformat": 4,
 "nbformat_minor": 2
}
