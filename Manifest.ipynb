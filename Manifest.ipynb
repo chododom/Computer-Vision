{
 "cells": [
  {
   "cell_type": "markdown",
   "metadata": {},
   "source": [
    "# Table of contents for course CSC 483: Computer Vision\n",
    "\n",
    "Date of last edit: 11/25/2019 (revisited project3 part A to fix issues in grading, ASCII convertor updated, new OCR tool project, new project 5, start of final project)\n",
    "\n",
    "<br/>\n",
    "\n",
    "\n",
    "# Portfolio\n",
    "\n",
    "- Project 1: implemented some of the suggested portfolio ideas\n",
    "    - [Project 1 portfolio notebook](portfolio/project_1_portfolio_ideas.ipynb)\n",
    "    - [project1.py](project1/project1.py)\n",
    "    \n",
    "<br/>\n",
    "\n",
    "- ASCII convertor: tool to convert images into ASCII art\n",
    "    - [ASCII convertor notebook](portfolio/ascii_convertor.ipynb)\n",
    "    \n",
    "<br/>\n",
    "\n",
    "- Optical Character Recognition tool: using Tesseract OCR to recognize text embedded in images\n",
    "    - [OCR notebook](portfolio/optical_character_recognition.ipynb)\n",
    "    - pytesseract package needs to be installed\n",
    "    - Tesseract OCR opensource: https://sourceforge.net/projects/tesseract-ocr-alt/files/tesseract-ocr-setup-3.02.02.exe/download\n",
    "    - Training data for Czech language: https://github.com/tesseract-ocr/tessdata/blob/3.04.00/ces.traineddata\n",
    "    \n",
    "    \n",
    "# Assignments\n",
    "\n",
    "- [Project 1](project1/project1.ipynb)\n",
    "    - [project1.py](project1/project1.py)\n",
    "- [Project 2](project2/proj2.ipynb)\n",
    "    - [Hybrid images and Writeup](project2/proj2_test_filtering.ipynb)\n",
    "    - [project2.py](project2/project2.py)\n",
    "- Project 3\n",
    "    - Part 3A has been revisited and further testing has been added and code in project3.py was properly documented\n",
    "    - [Project 3A](project3/project3A.ipynb)\n",
    "    - [Project 3B](project3/project3B.ipynb)\n",
    "    - [project3.py](project3/project3.py)\n",
    "    - [Writeup](project3/writeup.ipynb)\n",
    "- [Project 4](project4/Project-4-Harris.ipynb)\n",
    "    - [project4.py](project4/project4.py)\n",
    "    - [Writeup](project4/Writeup.ipynb)\n",
    "- [Project 5](project5/code/proj5.ipynb)\n",
    "    - [student_feature_matching.py](project5/code/student_feature_matching.py)\n",
    "    - [student_harris.py](project5/code/student_harris.py)\n",
    "    - [student_sift.py](project5/code/student_sift.py)\n",
    "    - [Writeup](project5/code/Writeup.ipynb)\n",
    "\n",
    "\n",
    "# Feedback\n",
    "\n",
    "This is good.  If I recall correctly, some of these projects were done before taking this class?  Can you be sure to elaborate on this?  Also I would like your portfolio notebook to be a bit more descriptive and narrative: what were the main take-aways? What did you learn in the process of the project? What was the biggest challenge.\n",
    "\n",
    "Keep up the good work!"
   ]
  },
  {
   "cell_type": "code",
   "execution_count": null,
   "metadata": {},
   "outputs": [],
   "source": []
  },
  {
   "cell_type": "code",
   "execution_count": null,
   "metadata": {},
   "outputs": [],
   "source": []
  }
 ],
 "metadata": {
  "kernelspec": {
   "display_name": "Python 3",
   "language": "python",
   "name": "python3"
  },
  "language_info": {
   "codemirror_mode": {
    "name": "ipython",
    "version": 3
   },
   "file_extension": ".py",
   "mimetype": "text/x-python",
   "name": "python",
   "nbconvert_exporter": "python",
   "pygments_lexer": "ipython3",
   "version": "3.7.3"
  }
 },
 "nbformat": 4,
 "nbformat_minor": 2
}
