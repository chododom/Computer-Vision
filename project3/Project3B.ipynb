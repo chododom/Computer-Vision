{
 "cells": [
  {
   "cell_type": "markdown",
   "metadata": {},
   "source": [
    "# Project 3B:  Canny Filter\n",
    "\n",
    "The Sobel operator used in Part A of this project is good, but tends to over-produce edges. The Canny operator is a common approach to isolating edge pixels.  As demonstrated by lecture and readings, there are five steps.  In your `project3.py` file, implement each of the steps and test below."
   ]
  },
  {
   "cell_type": "markdown",
   "metadata": {},
   "source": [
    "---\n",
    "\n",
    "### Step 1: Apply a Gaussian filter to smooth the image.\n",
    "\n",
    "A nice 5x5 kernel like those used in Project 2 should be good.  Show your results below"
   ]
  },
  {
   "cell_type": "code",
   "execution_count": 1,
   "metadata": {},
   "outputs": [
    {
     "data": {
      "image/png": "[encoded data removed]",
      "text/plain": [
       "<Figure size 432x288 with 1 Axes>"
      ]
     },
     "metadata": {
      "needs_background": "light"
     },
     "output_type": "display_data"
    }
   ],
   "source": [
    "import numpy as np\n",
    "import cv2\n",
    "from project3 import *\n",
    "import matplotlib.pyplot as plt\n",
    "import math\n",
    "from utils import load_image, save_image\n",
    "%matplotlib inline\n",
    "\n",
    "\n",
    "img = cv2.imread(\"images/testimage.pgm\", 0)\n",
    "\n",
    "# kernels\n",
    "vertical_sobel = np.asarray([[-1, 0, 1], [-2, 0, 2], [-1, 0, 1]])\n",
    "horizontal_sobel = np.asarray([[-1, -2, -1], [0, 0, 0], [1, 2, 1]])\n",
    "gaussian = cv2.getGaussianKernel(ksize=10, sigma=5)\n",
    "\n",
    "# blur image with Gaussian filter\n",
    "img = cv2.filter2D(img, cv2.CV_16S, gaussian)\n",
    "plt.figure()\n",
    "plt.imshow(img,cmap='gray', vmin=0, vmax=255);plt.show()"
   ]
  },
  {
   "cell_type": "markdown",
   "metadata": {},
   "source": [
    "---\n",
    "\n",
    "### Step 2: Find the gradient\n",
    "\n",
    "Use a sobel operator to find the intensity gradient of the image -- that is, the edges\n",
    "\n",
    "* You'll need to calculate both the magnitude (as in part A)\n",
    "\n",
    "$G = \\sqrt{G_{x}^{2} + G_{y}^{2}}$\n",
    "\n",
    "* You'll also need to calculate the orientation of the edge:\n",
    "\n",
    "$ \\theta = arctan(\\frac{G_{y}}{G_{x}}) $\n",
    "\n",
    "It is up to your discretion what format you store this information, but keep in mind it is on a per-pixel level.\n",
    "\n",
    "Visualize the magnitude and orientation of the edges in an image in the cell below\n"
   ]
  },
  {
   "cell_type": "code",
   "execution_count": 2,
   "metadata": {},
   "outputs": [
    {
     "data": {
      "image/png": "[encoded data removed]",
      "text/plain": [
       "<Figure size 432x288 with 1 Axes>"
      ]
     },
     "metadata": {
      "needs_background": "light"
     },
     "output_type": "display_data"
    },
    {
     "data": {
      "image/png": "[encoded data removed]",
      "text/plain": [
       "<Figure size 432x288 with 1 Axes>"
      ]
     },
     "metadata": {
      "needs_background": "light"
     },
     "output_type": "display_data"
    }
   ],
   "source": [
    "v_dst = cv2.filter2D(img, cv2.CV_16S, vertical_sobel)\n",
    "h_dst = cv2.filter2D(img, cv2.CV_16S, horizontal_sobel)\n",
    "\n",
    "magnitudes = np.hypot(v_dst, h_dst)\n",
    "plt.figure()\n",
    "plt.imshow(magnitudes,cmap='gray', vmin=0, vmax=255);plt.show()\n",
    "\n",
    "orientations = calculate_orientation(v_dst, h_dst)\n",
    "plt.imshow(orientations,cmap='gray', vmin=0, vmax=1);plt.show()"
   ]
  },
  {
   "cell_type": "markdown",
   "metadata": {},
   "source": [
    "---\n",
    "\n",
    "### Step 3: Non Maximum Suppression \n",
    "\n",
    "The idea here is that some gradient edges can still be many pixels wide \"thick\", whereas we really only want edges to be one pixel wide.  We can resolve this by iterating through each *magnitude* pixel, and compare its value to the values of its neighbors along the orientation of the edge (as calculated by your orientation image).  We only care about four \"cardinal\" directions.\n",
    "\n",
    "* if the (rounded) angle is $0^{\\circ}$, compare the pixel to its east and west neighbors, and zero it out if it non-maximal\n",
    "* if the angle is $90^{\\circ}$, compare to the north and west neighbors\n",
    "* follow the same logic for $45^{\\circ}$ (NE and SW) and $135^{\\circ}$ (NW and SE)\n",
    "\n",
    "In the event that a pixel's magnitude is lower than its neighbors, just set it to zero.  If it is maximal, leave it alone.  Show the result of your testing below."
   ]
  },
  {
   "cell_type": "code",
   "execution_count": 3,
   "metadata": {},
   "outputs": [
    {
     "data": {
      "image/png": "[encoded data removed]",
      "text/plain": [
       "<Figure size 432x288 with 1 Axes>"
      ]
     },
     "metadata": {
      "needs_background": "light"
     },
     "output_type": "display_data"
    }
   ],
   "source": [
    "n_m_sup = non_max_suppression(magnitudes, orientations)\n",
    "plt.imshow(n_m_sup,cmap='gray', vmin=0, vmax=255);plt.show()"
   ]
  },
  {
   "cell_type": "markdown",
   "metadata": {},
   "source": [
    "---\n",
    "\n",
    "### Step 4: Set two thresholds\n",
    "\n",
    "We next need to determine a \"high\" --  $T_{hi}$  -- and \"low\"  -- $T_{low}$ --  threshold value for edge pixels.  The idea here is that we can now classify magnitude pixels into three categories:\n",
    "\n",
    "* strong:  ($ G \\gt T_{hi}$)- definitely an edge\n",
    "* weak:  ($ T_{low} \\lt G \\lt T_{hi}$) - possibly an edge\n",
    "* discard: ($G \\lt T_{low}$) - too weak, simply discard\n",
    "\n",
    "Unfortunately, these values have to be determined through emprical trial and error, and can vary from image to image.  \n",
    "\n",
    "Try having $T_{hi} = 1.5 \\times T_{low}$\n",
    "\n",
    "Test for a range of different values, and show them side by side\n",
    "\n"
   ]
  },
  {
   "cell_type": "code",
   "execution_count": null,
   "metadata": {},
   "outputs": [],
   "source": []
  },
  {
   "cell_type": "markdown",
   "metadata": {},
   "source": [
    "--- \n",
    "\n",
    "### Step 5: Edge Tracking \n",
    "\n",
    "Follow the following \"blob tracking\" algorithm:  iterate through all the weak magnitude pixels and look at its eight neighbors.  If at least one of its neighbors is a strong pixel, then the weak edge pixel probably belongs to a strong edge, and keep it.  Otherwise, discard it. Demonstrate your testing below."
   ]
  },
  {
   "cell_type": "code",
   "execution_count": null,
   "metadata": {},
   "outputs": [],
   "source": []
  },
  {
   "cell_type": "markdown",
   "metadata": {},
   "source": [
    "### Conclusion:\n",
    "\n",
    "Wrap everything together in a function called Canny inside of project3.py.  You should use the same API signature as the openCV Canny() edge detector.  Show your testing below."
   ]
  },
  {
   "cell_type": "code",
   "execution_count": null,
   "metadata": {},
   "outputs": [],
   "source": []
  }
 ],
 "metadata": {
  "kernelspec": {
   "display_name": "Python 3",
   "language": "python",
   "name": "python3"
  },
  "language_info": {
   "codemirror_mode": {
    "name": "ipython",
    "version": 3
   },
   "file_extension": ".py",
   "mimetype": "text/x-python",
   "name": "python",
   "nbconvert_exporter": "python",
   "pygments_lexer": "ipython3",
   "version": "3.7.3"
  }
 },
 "nbformat": 4,
 "nbformat_minor": 2
}
